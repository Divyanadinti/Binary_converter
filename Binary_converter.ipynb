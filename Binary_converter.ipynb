{
 "cells": [
  {
   "cell_type": "markdown",
   "id": "61109462",
   "metadata": {},
   "source": [
    "Have the function BinaryConverter(str) return the decimal form of the binary value. For example: if 101 is passed return 5, or if 1000 is passed return 8.\n"
   ]
  },
  {
   "cell_type": "code",
   "execution_count": 1,
   "id": "81aa2caf",
   "metadata": {},
   "outputs": [
    {
     "name": "stdout",
     "output_type": "stream",
     "text": [
      "5\n",
      "8\n",
      "15\n",
      "0\n",
      "1\n"
     ]
    }
   ],
   "source": [
    "def BinaryConverter(binary_str):\n",
    "    # Convert the binary string to a decimal integer using int() with base 2\n",
    "    decimal_value = int(binary_str, 2)\n",
    "    \n",
    "    return decimal_value\n",
    "\n",
    "# Example usage\n",
    "print(BinaryConverter(\"101\"))  \n",
    "print(BinaryConverter(\"1000\")) \n",
    "print(BinaryConverter(\"1111\")) \n",
    "print(BinaryConverter(\"0\"))    \n",
    "print(BinaryConverter(\"1\")) "
   ]
  },
  {
   "cell_type": "code",
   "execution_count": null,
   "id": "d53141bb",
   "metadata": {},
   "outputs": [],
   "source": []
  }
 ],
 "metadata": {
  "kernelspec": {
   "display_name": "Python 3 (ipykernel)",
   "language": "python",
   "name": "python3"
  },
  "language_info": {
   "codemirror_mode": {
    "name": "ipython",
    "version": 3
   },
   "file_extension": ".py",
   "mimetype": "text/x-python",
   "name": "python",
   "nbconvert_exporter": "python",
   "pygments_lexer": "ipython3",
   "version": "3.10.9"
  }
 },
 "nbformat": 4,
 "nbformat_minor": 5
}
